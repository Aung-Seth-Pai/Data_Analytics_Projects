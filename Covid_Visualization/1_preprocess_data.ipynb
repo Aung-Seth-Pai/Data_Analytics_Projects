{
 "cells": [
  {
   "cell_type": "code",
   "execution_count": 10,
   "metadata": {
    "scrolled": false
   },
   "outputs": [],
   "source": [
    "import sqlite3\n",
    "import pandas as pd\n",
    "import os\n",
    "import helper as h"
   ]
  },
  {
   "cell_type": "markdown",
   "metadata": {},
   "source": [
    "### Connect to Database\n",
    "\n",
    "Since I am using the SQLite database, the main table needs to be imported from this csv file https://covid.ourworldindata.org/data/owid-covid-data.csv manually to the database if one would like to update the data source."
   ]
  },
  {
   "cell_type": "code",
   "execution_count": 11,
   "metadata": {},
   "outputs": [],
   "source": [
    "# Create a SQL connection to our SQLite database\n",
    "con = sqlite3.connect(\"data/owid_covid_data.sqlite3\")\n",
    "con.row_factory = sqlite3.Row # fetch both column names and value pairs\n",
    "cur = con.cursor()"
   ]
  },
  {
   "cell_type": "markdown",
   "metadata": {},
   "source": [
    "### Create output folder if not exists"
   ]
  },
  {
   "cell_type": "code",
   "execution_count": 12,
   "metadata": {},
   "outputs": [],
   "source": [
    "# if folder to save the query results does not exist, create one\n",
    "path = 'df_output'\n",
    "if not os.path.exists(path):\n",
    "    os.makedirs(path)"
   ]
  },
  {
   "cell_type": "markdown",
   "metadata": {},
   "source": [
    "### Check if data exists"
   ]
  },
  {
   "cell_type": "code",
   "execution_count": 13,
   "metadata": {
    "scrolled": true
   },
   "outputs": [
    {
     "name": "stdout",
     "output_type": "stream",
     "text": [
      "no such table: main\n"
     ]
    },
    {
     "ename": "AttributeError",
     "evalue": "'int' object has no attribute 'head'",
     "output_type": "error",
     "traceback": [
      "\u001b[0;31m---------------------------------------------------------------------------\u001b[0m",
      "\u001b[0;31mAttributeError\u001b[0m                            Traceback (most recent call last)",
      "\u001b[0;32m/tmp/ipykernel_62556/1596489462.py\u001b[0m in \u001b[0;36m<module>\u001b[0;34m\u001b[0m\n\u001b[1;32m      1\u001b[0m \u001b[0;31m# check if main data exist\u001b[0m\u001b[0;34m\u001b[0m\u001b[0;34m\u001b[0m\u001b[0;34m\u001b[0m\u001b[0m\n\u001b[0;32m----> 2\u001b[0;31m h.execute_q('''\n\u001b[0m\u001b[1;32m      3\u001b[0m     \u001b[0mSELECT\u001b[0m \u001b[0;34m*\u001b[0m\u001b[0;34m\u001b[0m\u001b[0;34m\u001b[0m\u001b[0m\n\u001b[1;32m      4\u001b[0m     \u001b[0mFROM\u001b[0m \u001b[0mmain\u001b[0m\u001b[0;34m\u001b[0m\u001b[0;34m\u001b[0m\u001b[0m\n\u001b[1;32m      5\u001b[0m     \u001b[0mORDER\u001b[0m \u001b[0mBY\u001b[0m \u001b[0mlocation\u001b[0m\u001b[0;34m,\u001b[0m \u001b[0mdate\u001b[0m\u001b[0;34m\u001b[0m\u001b[0;34m\u001b[0m\u001b[0m\n",
      "\u001b[0;31mAttributeError\u001b[0m: 'int' object has no attribute 'head'"
     ]
    }
   ],
   "source": [
    "# check if main data exist\n",
    "h.execute_q('''\n",
    "    SELECT * \n",
    "    FROM main\n",
    "    ORDER BY location, date\n",
    "    LIMIT 1\n",
    "''', cur).head()"
   ]
  },
  {
   "cell_type": "code",
   "execution_count": null,
   "metadata": {},
   "outputs": [],
   "source": [
    "# Extract covid deaths info table from main\n",
    "h.execute_q('''\n",
    "    CREATE TABLE CovidDeaths\n",
    "    AS SELECT\n",
    "        iso_code, continent, location, date, population,\n",
    "        total_cases, new_cases,\n",
    "        CAST(new_cases_smoothed AS REAL) new_cases_smoothed,\n",
    "        CAST(total_deaths AS REAL) total_deaths,\n",
    "        CAST(new_deaths AS REAL) new_deaths, \n",
    "        CAST(new_deaths_smoothed AS REAL) new_deaths_smoothed,\n",
    "        total_cases_per_million, new_cases_per_million,\n",
    "        CAST(new_cases_smoothed_per_million AS REAL) new_cases_smoothed_per_million,\n",
    "        CAST(total_deaths_per_million AS REAL) total_deaths_per_million,\n",
    "        CAST(new_deaths_per_million AS REAL) new_deaths_per_million,\n",
    "        CAST(new_deaths_smoothed_per_million AS REAL) new_deaths_smoothed_per_million,\n",
    "        CAST(reproduction_rate AS REAL) reproduction_rate,\n",
    "        CAST(icu_patients AS INT) icu_patients,\n",
    "        CAST(icu_patients_per_million AS REAL) icu_patients_per_million,\n",
    "        CAST(hosp_patients AS INT) hosp_patients,\n",
    "        CAST(hosp_patients_per_million AS REAL),\n",
    "        CAST(weekly_icu_admissions AS INT) weekly_icu_admissions,\n",
    "        CAST(weekly_icu_admissions_per_million AS REAL) weekly_icu_admissions_per_million,\n",
    "        CAST(weekly_hosp_admissions AS INT) weekly_hosp_admissions,\n",
    "        CAST(weekly_hosp_admissions_per_million AS REAL) weekly_hosp_admissions_per_million\n",
    "    FROM main;\n",
    "''', cur)"
   ]
  },
  {
   "cell_type": "code",
   "execution_count": null,
   "metadata": {},
   "outputs": [],
   "source": [
    "# Extract covid vaccination info table from main\n",
    "h.execute_q('''\n",
    "    CREATE TABLE CovidVacc\n",
    "    AS SELECT\n",
    "        iso_code, continent, location, date, \n",
    "        CAST(new_tests AS REAL) new_tests,\n",
    "        CAST(total_tests AS REAL) total_tests,\n",
    "        CAST(total_tests_per_thousand AS REAL) total_tests_per_thousand,\n",
    "        CAST(new_tests_per_thousand AS REAL) new_tests_per_thousand,\n",
    "        CAST(new_tests_smoothed AS REAL) new_tests_smoothed,\n",
    "        CAST(new_tests_smoothed_per_thousand AS REAL) new_tests_smoothed_per_thousand,\n",
    "        CAST(positive_rate AS REAL) positive_rate,\n",
    "        CAST(tests_per_case AS REAL) tests_per_case,\n",
    "        tests_units, \n",
    "        CAST(total_vaccinations AS INT) total_vaccinations,\n",
    "        CAST(people_vaccinated AS INT) people_vaccinated,\n",
    "        CAST(people_fully_vaccinated AS INT) people_fully_vaccinated,\n",
    "        CAST(total_boosters AS INT) total_boosters,\n",
    "        CAST(new_vaccinations AS INT) new_vaccinations,\n",
    "        CAST(new_vaccinations_smoothed AS INT) new_vaccinations_smoothed,\n",
    "        CAST(total_vaccinations_per_hundred AS REAL) total_vaccinations_per_hundred,\n",
    "        CAST(people_vaccinated_per_hundred AS REAL) people_vaccinated_per_hundred,\n",
    "        CAST(people_fully_vaccinated_per_hundred AS REAL) people_fully_vaccinated_per_hundred,\n",
    "        CAST(total_boosters_per_hundred AS REAL) total_boosters_per_hundred,\n",
    "        CAST(new_vaccinations_smoothed_per_million AS REAL) new_vaccinations_smoothed_per_million,\n",
    "        CAST(new_people_vaccinated_smoothed AS INT) new_people_vaccinated_smoothed,\n",
    "        CAST(new_people_vaccinated_smoothed_per_hundred AS REAL) new_people_vaccinated_smoothed_per_hundred,\n",
    "        CAST(stringency_index AS REAL) stringency_index,\n",
    "        CAST(population_density AS REAL) population_density,\n",
    "        CAST(median_age AS REAL) median_age,\n",
    "        CAST(aged_65_older AS REAL) aged_65_older,\n",
    "        CAST(aged_70_older AS REAL) aged_70_older,\n",
    "        CAST(gdp_per_capita AS REAL) gdp_per_capita,\n",
    "        CAST(extreme_poverty AS REAL) extreme_poverty,\n",
    "        CAST(cardiovasc_death_rate AS REAL) cardiovasc_death_rate,\n",
    "        CAST(diabetes_prevalence AS REAL) diabetes_prevalence,\n",
    "        CAST(female_smokers AS REAL) female_smokers,\n",
    "        CAST(male_smokers AS REAL) male_smokers,\n",
    "        CAST(handwashing_facilities AS REAL) handwashing_facilities,\n",
    "        CAST(hospital_beds_per_thousand AS REAL) hospital_beds_per_thousand,\n",
    "        CAST(life_expectancy AS REAL) life_expectancy,\n",
    "        CAST(human_development_index AS REAL) human_development_index,\n",
    "        CAST(excess_mortality_cumulative_absolute AS REAL) excess_mortality_cumulative_absolute,\n",
    "        CAST(excess_mortality_cumulative AS REAL) excess_mortality_cumulative,\n",
    "        CAST(excess_mortality AS REAL) excess_mortality,\n",
    "        CAST(excess_mortality_cumulative_per_million AS REAL) excess_mortality_cumulative_per_million    \n",
    "    FROM main;\n",
    "''', cur)"
   ]
  },
  {
   "cell_type": "code",
   "execution_count": null,
   "metadata": {
    "scrolled": true
   },
   "outputs": [],
   "source": [
    "# To drop the main table (optional)\n",
    "\n",
    "# h.execute_q('''\n",
    "#     DROP TABLE main\n",
    "# ''', cur)"
   ]
  },
  {
   "cell_type": "code",
   "execution_count": 14,
   "metadata": {
    "scrolled": false
   },
   "outputs": [
    {
     "data": {
      "text/plain": [
       "Index(['iso_code', 'continent', 'location', 'date', 'population',\n",
       "       'total_cases', 'new_cases', 'new_cases_smoothed', 'total_deaths',\n",
       "       'new_deaths', 'new_deaths_smoothed', 'total_cases_per_million',\n",
       "       'new_cases_per_million', 'new_cases_smoothed_per_million',\n",
       "       'total_deaths_per_million', 'new_deaths_per_million',\n",
       "       'new_deaths_smoothed_per_million', 'reproduction_rate', 'icu_patients',\n",
       "       'icu_patients_per_million', 'hosp_patients',\n",
       "       'CAST(hosp_patients_per_million AS REAL)', 'weekly_icu_admissions',\n",
       "       'weekly_icu_admissions_per_million', 'weekly_hosp_admissions',\n",
       "       'weekly_hosp_admissions_per_million'],\n",
       "      dtype='object')"
      ]
     },
     "execution_count": 14,
     "metadata": {},
     "output_type": "execute_result"
    }
   ],
   "source": [
    "# check if covid deaths table exist\n",
    "h.execute_q('''\n",
    "    SELECT *\n",
    "    FROM CovidDeaths\n",
    "    ORDER BY location, date\n",
    "    LIMIT 5\n",
    "''', cur).columns"
   ]
  },
  {
   "cell_type": "code",
   "execution_count": 15,
   "metadata": {
    "scrolled": false
   },
   "outputs": [
    {
     "data": {
      "text/plain": [
       "Index(['iso_code', 'continent', 'location', 'date', 'new_tests', 'total_tests',\n",
       "       'total_tests_per_thousand', 'new_tests_per_thousand',\n",
       "       'new_tests_smoothed', 'new_tests_smoothed_per_thousand',\n",
       "       'positive_rate', 'tests_per_case', 'tests_units', 'total_vaccinations',\n",
       "       'people_vaccinated', 'people_fully_vaccinated', 'total_boosters',\n",
       "       'new_vaccinations', 'new_vaccinations_smoothed',\n",
       "       'total_vaccinations_per_hundred', 'people_vaccinated_per_hundred',\n",
       "       'people_fully_vaccinated_per_hundred', 'total_boosters_per_hundred',\n",
       "       'new_vaccinations_smoothed_per_million',\n",
       "       'new_people_vaccinated_smoothed',\n",
       "       'new_people_vaccinated_smoothed_per_hundred', 'stringency_index',\n",
       "       'population_density', 'median_age', 'aged_65_older', 'aged_70_older',\n",
       "       'gdp_per_capita', 'extreme_poverty', 'cardiovasc_death_rate',\n",
       "       'diabetes_prevalence', 'female_smokers', 'male_smokers',\n",
       "       'handwashing_facilities', 'hospital_beds_per_thousand',\n",
       "       'life_expectancy', 'human_development_index',\n",
       "       'excess_mortality_cumulative_absolute', 'excess_mortality_cumulative',\n",
       "       'excess_mortality', 'excess_mortality_cumulative_per_million'],\n",
       "      dtype='object')"
      ]
     },
     "execution_count": 15,
     "metadata": {},
     "output_type": "execute_result"
    }
   ],
   "source": [
    "# check if covid vaccination table exist\n",
    "h.execute_q('''\n",
    "    SELECT *\n",
    "    FROM CovidVacc\n",
    "    ORDER BY location, date\n",
    "    LIMIT 5\n",
    "''', cur).columns"
   ]
  },
  {
   "cell_type": "code",
   "execution_count": 16,
   "metadata": {},
   "outputs": [],
   "source": [
    "# Be sure to close the connection\n",
    "con.close()"
   ]
  }
 ],
 "metadata": {
  "hide_input": false,
  "kernelspec": {
   "display_name": "Python 3 (ipykernel)",
   "language": "python",
   "name": "python3"
  },
  "language_info": {
   "codemirror_mode": {
    "name": "ipython",
    "version": 3
   },
   "file_extension": ".py",
   "mimetype": "text/x-python",
   "name": "python",
   "nbconvert_exporter": "python",
   "pygments_lexer": "ipython3",
   "version": "3.9.12"
  },
  "toc": {
   "base_numbering": 1,
   "nav_menu": {},
   "number_sections": true,
   "sideBar": true,
   "skip_h1_title": false,
   "title_cell": "Table of Contents",
   "title_sidebar": "Contents",
   "toc_cell": false,
   "toc_position": {},
   "toc_section_display": true,
   "toc_window_display": false
  },
  "varInspector": {
   "cols": {
    "lenName": 16,
    "lenType": 16,
    "lenVar": 40
   },
   "kernels_config": {
    "python": {
     "delete_cmd_postfix": "",
     "delete_cmd_prefix": "del ",
     "library": "var_list.py",
     "varRefreshCmd": "print(var_dic_list())"
    },
    "r": {
     "delete_cmd_postfix": ") ",
     "delete_cmd_prefix": "rm(",
     "library": "var_list.r",
     "varRefreshCmd": "cat(var_dic_list()) "
    }
   },
   "types_to_exclude": [
    "module",
    "function",
    "builtin_function_or_method",
    "instance",
    "_Feature"
   ],
   "window_display": false
  }
 },
 "nbformat": 4,
 "nbformat_minor": 2
}
